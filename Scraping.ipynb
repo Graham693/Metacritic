{
 "cells": [
  {
   "cell_type": "markdown",
   "metadata": {},
   "source": [
    "# Scraping\n",
    "\n",
    "This notebook contains the code written to scrape Metacritic for game details."
   ]
  },
  {
   "cell_type": "code",
   "execution_count": 3,
   "metadata": {},
   "outputs": [],
   "source": [
    "import numpy as np\n",
    "import pandas as pd\n",
    "from bs4 import BeautifulSoup\n",
    "import requests\n",
    "import time\n",
    "import warnings\n",
    "from openpyxl import load_workbook\n",
    "\n"
   ]
  },
  {
   "cell_type": "code",
   "execution_count": 121,
   "metadata": {},
   "outputs": [],
   "source": [
    "# Send request. I'm not sure why I need this header, but it doesn't work without it.\n",
    "meta = requests.get(url, headers = user_agent)\n",
    "meta = BeautifulSoup(meta.text)"
   ]
  },
  {
   "cell_type": "code",
   "execution_count": 141,
   "metadata": {},
   "outputs": [],
   "source": [
    "# This is required otherwise the request won't work\n",
    "user_agent = {'User-agent': 'Mozilla/5.0'}\n",
    "urls = []\n",
    "names = []\n",
    "# Metacritic starts index at 0. There are currently 192 pages of games, and this is easier than pulling that informtaion thru scraping.\n",
    "num_pages = 191\n",
    "for page in range(0, num_pages):\n",
    "    url = f\"https://www.metacritic.com/browse/games/score/metascore/all/all/filtered?view=condensed&page={page}\"\n",
    "    meta = requests.get(url, headers = user_agent)\n",
    "    meta = BeautifulSoup(meta.text)\n",
    "    # These classes contain the games. Four chunks of information separated by ads..\n",
    "    games = meta.find_all(\"div\", {\"class\": [\"browse_list_wrapper one browse-list-large\", \"browse_list_wrapper two browse-list-large\", \"browse_list_wrapper three browse-list-large\", \"browse_list_wrapper four browse-list-large\"]})\n",
    "\n",
    "    for i in range(4):\n",
    "        name = games[i].find_all(\"h3\")\n",
    "        names = names + name\n",
    "\n",
    "        # Extract just the url\n",
    "        url = games[i].find_all(\"a\", {\"class\" : \"title\"}, href = True)\n",
    "        for a in url:\n",
    "            urls.append(a[\"href\"])\n",
    "    time.sleep(0.5)\n",
    "# Change to string objects, remove html tage\n",
    "names = [name.text for name in names]"
   ]
  },
  {
   "cell_type": "code",
   "execution_count": 142,
   "metadata": {},
   "outputs": [],
   "source": [
    "# <h3> was used as tag for game name and 'User Score', so we need to remove elements that are user score.\n",
    "# This gives an error, because when it pops the length of the list is reduced. The task is done by the time it fails though, so it doesn't really matter. Use except clause to end gracefully\n",
    "\n",
    "for i in range(len(names) - 1):\n",
    "    try:\n",
    "        if(names[i] == 'User Score'):\n",
    "            names.pop(i)\n",
    "    except:\n",
    "        None"
   ]
  },
  {
   "cell_type": "code",
   "execution_count": 144,
   "metadata": {},
   "outputs": [],
   "source": [
    "games_df = pd.DataFrame(list(zip(names, urls)), columns = [\"Name\", \"URL\"])\n"
   ]
  },
  {
   "cell_type": "code",
   "execution_count": 145,
   "metadata": {},
   "outputs": [],
   "source": [
    "#games_df.to_csv(r'allgames.csv', index = False)"
   ]
  },
  {
   "cell_type": "markdown",
   "metadata": {},
   "source": [
    "## Scraping Individual game pages\n",
    "\n",
    "Could get a few more dimensions (ESRB Descriptors and some developer credits) if we go to details page. I don't think these dimensions are interesting enough to warrant a rewrite though."
   ]
  },
  {
   "cell_type": "code",
   "execution_count": 31,
   "metadata": {},
   "outputs": [],
   "source": [
    "# If from saved csv\n",
    "games_df = pd.read_csv(\"allgames.csv\")\n",
    "\n",
    "main = \"https://www.metacritic.com\"\n",
    "games_df[\"Metascore\"] = np.nan\n",
    "games_df[\"User_score\"] = np.nan\n",
    "games_df[\"Summary\"] = np.nan\n",
    "games_df[\"Publisher\"] = np.nan\n",
    "games_df[\"Release_Date\"] = np.nan\n",
    "games_df[\"Developer\"] = np.nan\n",
    "games_df[\"Genres\"] = np.nan\n",
    "games_df[\"ESRB\"] = np.nan\n",
    "games_df[\"Number_of_Players\"] = np.nan\n",
    "games_df[\"Platform\"] = np.nan\n"
   ]
  },
  {
   "cell_type": "code",
   "execution_count": 19,
   "metadata": {},
   "outputs": [],
   "source": [
    "# Set up excel writer. I created an excel file called gamedata.xlsx with column headers\n",
    "# Can't do csv because the format of some of the dimensions breaks it\n",
    "\n",
    "writer = pd.ExcelWriter(\"gamedata.xlsx\", engine = \"openpyxl\")\n",
    "writer.book = load_workbook(\"gamedata.xlsx\")\n",
    "\n",
    "reader = pd.read_excel(r\"gamedata.xlsx\")"
   ]
  },
  {
   "cell_type": "code",
   "execution_count": 32,
   "metadata": {},
   "outputs": [
    {
     "name": "stdout",
     "output_type": "stream",
     "text": [
      "Error on row 1713\n",
      "Error on row 3620\n",
      "Error on row 4335\n",
      "Error on row 10116\n",
      "Error on row 11094\n",
      "Error on row 13387\n",
      "Error on row 13519\n",
      "Error on row 14700\n",
      "Error on row 15184\n",
      "Error on row 15185\n",
      "Error on row 15268\n",
      "Error on row 16693\n",
      "Error on row 16723\n",
      "Error on row 18262\n"
     ]
    }
   ],
   "source": [
    "# Iterate through entries in games_df. My computer keeps crshing before this finishes, so I'm trying to append each row to the excel file as we go\n",
    "user_agent = {'User-agent': 'Mozilla/5.0'}\n",
    "\n",
    "# Sketchy, but I get a warning when assigning genres that is annoying when iterated 10000 times\n",
    "warnings.filterwarnings(\"ignore\")\n",
    "\n",
    "for i in range(len(games_df)):\n",
    "    try:\n",
    "        url = main + games_df[\"URL\"][i]\n",
    "        # Retrieve html\n",
    "        meta = requests.get(url, headers = user_agent)\n",
    "        meta = BeautifulSoup(meta.text)\n",
    "\n",
    "        # Scrape relevant info\n",
    "        scores = meta.find_all(\"a\", {\"class\": \"metascore_anchor\"})\n",
    "        metascore = scores[0].text.replace(\"\\n\", \"\")\n",
    "        userscore = scores[1].text.replace(\"\\n\", \"\")\n",
    "\n",
    "        try:\n",
    "            summary = meta.find(\"span\", {\"class\": \"blurb blurb_expanded\"}).text\n",
    "        except:\n",
    "            summary = np.nan\n",
    "\n",
    "        details = meta.find_all(\"ul\", {\"class\": \"summary_details\"})\n",
    "        # Three sections with relevant information labelled in this way. Second section is the summary which we already have the expanded version of.\n",
    "        top = details[0].find_all(\"span\", {\"class\": \"data\"})\n",
    "        try:\n",
    "            publisher = top[0].text.replace(\"\\n\", \"\").replace(\"  \", \"\") # Random bunch of spaces for some reason.\n",
    "        except:\n",
    "            publisher = np.nan\n",
    "        try:\n",
    "            release_date = top[1].text.replace(\"\\n\", \"\")\n",
    "        except:\n",
    "            release_date = np.nan\n",
    "\n",
    "        try:\n",
    "            developer = meta.find(\"li\", {\"class\": \"summary_detail developer\"}).find(\"a\", {\"class\" : \"button\"}).text\n",
    "        except:\n",
    "            developer = np.nan\n",
    "\n",
    "        try:\n",
    "            genres = meta.find(\"li\", {\"class\": \"summary_detail product_genre\"}).find_all(\"span\", {\"class\": \"data\"})\n",
    "            genres = [genre.text for genre in genres]\n",
    "        except:\n",
    "            genres = np.nan\n",
    "\n",
    "        try:\n",
    "            rating =  meta.find(\"li\", {\"class\": \"summary_detail product_rating\"}).find(\"span\", {\"class\": \"data\"}).text\n",
    "        except:\n",
    "            rating = np.nan\n",
    "\n",
    "        # This data doesn't exist for some games\n",
    "        try:\n",
    "            num_players = meta.find(\"li\", {\"class\": \"summary_detail product_players\"}).find(\"span\", {\"class\": \"data\"}).text\n",
    "        except:\n",
    "            num_players = np.nan\n",
    "\n",
    "        try:\n",
    "            platform = meta.find(\"span\", {\"class\": \"platform\"}).text.replace(\"\\n\", \"\").replace(\"  \", \"\").replace(\"\\t\", \"\")\n",
    "        except:\n",
    "            platform = np.nan\n",
    "\n",
    "        # Assign to dataframe\n",
    "\n",
    "        games_df.loc[i, \"Metascore\"] = metascore\n",
    "        games_df.loc[i, \"User_score\"] = userscore\n",
    "        games_df.loc[i, \"Summary\"] = summary\n",
    "        games_df.loc[i, \"Publisher\"] = publisher\n",
    "        games_df.loc[i, \"Release_Date\"] = release_date\n",
    "        games_df.loc[i, \"Developer\"] = developer\n",
    "        # Since genres is a list, the other strategy doesn't work and I don't know a better way. Need to suppress these warnings\n",
    "        games_df[\"Genres\"][i] = genres\n",
    "        games_df.loc[i, \"ESRB\"] = rating\n",
    "        games_df.loc[i, \"Number_of_Players\"] = num_players\n",
    "        games_df.loc[i, \"Platform\"] = platform\n",
    "\n",
    "    except:\n",
    "        print(f\"Error on row {i}\")\n",
    "    #Append line to excel file\n",
    "    pd.DataFrame(games_df.iloc[i]).transpose().to_csv(r'gamedata.csv', header = False, index = False, mode = 'a')\n",
    "    #Avoid DOS\n",
    "    time.sleep(0.5)\n",
    "    \n",
    "# csv gets messed up because of the commas and escape chars\n"
   ]
  },
  {
   "cell_type": "code",
   "execution_count": 26,
   "metadata": {},
   "outputs": [],
   "source": [
    "games_df[:10].to_csv(\"test.csv\", sep =\";\")"
   ]
  },
  {
   "cell_type": "code",
   "execution_count": 16,
   "metadata": {},
   "outputs": [
    {
     "data": {
      "text/html": [
       "<div>\n",
       "<style scoped>\n",
       "    .dataframe tbody tr th:only-of-type {\n",
       "        vertical-align: middle;\n",
       "    }\n",
       "\n",
       "    .dataframe tbody tr th {\n",
       "        vertical-align: top;\n",
       "    }\n",
       "\n",
       "    .dataframe thead th {\n",
       "        text-align: right;\n",
       "    }\n",
       "</style>\n",
       "<table border=\"1\" class=\"dataframe\">\n",
       "  <thead>\n",
       "    <tr style=\"text-align: right;\">\n",
       "      <th></th>\n",
       "      <th>Name</th>\n",
       "      <th>URL</th>\n",
       "      <th>Metascore</th>\n",
       "      <th>User_score</th>\n",
       "      <th>Summary</th>\n",
       "      <th>Publisher</th>\n",
       "      <th>Release_Date</th>\n",
       "      <th>Developer</th>\n",
       "      <th>Genres</th>\n",
       "      <th>ESRB</th>\n",
       "      <th>Number_of_Players</th>\n",
       "      <th>Platform</th>\n",
       "    </tr>\n",
       "  </thead>\n",
       "  <tbody>\n",
       "    <tr>\n",
       "      <th>1</th>\n",
       "      <td>Tony Hawk's Pro Skater 2</td>\n",
       "      <td>/game/playstation/tony-hawks-pro-skater-2</td>\n",
       "      <td>98</td>\n",
       "      <td>7.4</td>\n",
       "      <td>The soundtrack of my youth. Just the music mak...</td>\n",
       "      <td>Activision</td>\n",
       "      <td>Sep 20, 2000</td>\n",
       "      <td>Neversoft Entertainment</td>\n",
       "      <td>[Sports, Alternative, Skateboarding]</td>\n",
       "      <td>T</td>\n",
       "      <td>1-2</td>\n",
       "      <td>PlayStation</td>\n",
       "    </tr>\n",
       "  </tbody>\n",
       "</table>\n",
       "</div>"
      ],
      "text/plain": [
       "                       Name                                        URL  \\\n",
       "1  Tony Hawk's Pro Skater 2  /game/playstation/tony-hawks-pro-skater-2   \n",
       "\n",
       "  Metascore User_score                                            Summary  \\\n",
       "1        98        7.4  The soundtrack of my youth. Just the music mak...   \n",
       "\n",
       "    Publisher  Release_Date                Developer  \\\n",
       "1  Activision  Sep 20, 2000  Neversoft Entertainment   \n",
       "\n",
       "                                 Genres ESRB Number_of_Players     Platform  \n",
       "1  [Sports, Alternative, Skateboarding]    T              1-2   PlayStation  "
      ]
     },
     "execution_count": 16,
     "metadata": {},
     "output_type": "execute_result"
    }
   ],
   "source": [
    "pd.DataFrame(games_df.iloc[1]).transpose()"
   ]
  }
 ],
 "metadata": {
  "kernelspec": {
   "display_name": "Python 3",
   "language": "python",
   "name": "python3"
  },
  "language_info": {
   "codemirror_mode": {
    "name": "ipython",
    "version": 3
   },
   "file_extension": ".py",
   "mimetype": "text/x-python",
   "name": "python",
   "nbconvert_exporter": "python",
   "pygments_lexer": "ipython3",
   "version": "3.8.5"
  }
 },
 "nbformat": 4,
 "nbformat_minor": 4
}
